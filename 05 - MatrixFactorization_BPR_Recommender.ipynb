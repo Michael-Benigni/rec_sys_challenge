{
 "cells": [
  {
   "cell_type": "markdown",
   "id": "1fe752be",
   "metadata": {},
   "source": [
    "# Matrix Factorization BPR Recommender"
   ]
  },
  {
   "cell_type": "code",
   "execution_count": null,
   "id": "23f76f6b",
   "metadata": {},
   "outputs": [],
   "source": [
    "def init_kaggle(run_on_kaggle, secret_name):\n",
    "    if run_on_kaggle:\n",
    "        from kaggle_secrets import UserSecretsClient\n",
    "        user_secrets = UserSecretsClient()\n",
    "        personal_token = user_secrets.get_secret(secret_name)\n",
    "        \n",
    "        import subprocess\n",
    "        subprocess.run([\"git\", \"clone\", \"https://\" + personal_token + \"@github.com/alecontuIT/rec_sys_challenge2022.git\"])\n",
    "        \n",
    "        import os\n",
    "        os.chdir(\"./rec_sys_challenge2022\")\n",
    "        \n",
    "        subprocess.run([\"pip\", \"install\", \"-r\", \"requirements.txt\"])\n",
    "        subprocess.run([\"python\", \"run_compile_all_cython.py\"])\n",
    "        return True\n",
    "    \n",
    "    else:\n",
    "        return False"
   ]
  },
  {
   "cell_type": "code",
   "execution_count": null,
   "id": "bfde2b95",
   "metadata": {},
   "outputs": [],
   "source": [
    "dataset_version = \"interactions-all-ones\"\n",
    "kaggle = init_kaggle(False, \"recsys_git_token\")"
   ]
  },
  {
   "cell_type": "code",
   "execution_count": null,
   "id": "29bf2ac5",
   "metadata": {},
   "outputs": [],
   "source": [
    "import utils\n",
    "from recmodels import MatrixFactorizationBPRRec, AsySVDRec, FunkSVDRec\n",
    "from scipy.stats import loguniform\n",
    "from Evaluation.Evaluator import EvaluatorHoldout\n",
    "from skopt.space import Real, Integer, Categorical\n",
    "from HyperparameterTuning.SearchAbstractClass import SearchInputRecommenderArgs"
   ]
  },
  {
   "cell_type": "code",
   "execution_count": null,
   "id": "abd11436",
   "metadata": {},
   "outputs": [],
   "source": [
    "algorithm_name = \"FUNK_SVD\"\n",
    "\n",
    "if algorithm_name == \"MF_BPR\":\n",
    "    recommender_class = MatrixFactorizationBPRRec\n",
    "elif algorithm_name == \"ASY_SVD\":\n",
    "    recommender_class = AsySVDRec\n",
    "elif algorithm_name == \"FUNK_SVD\":   \n",
    "    recommender_class = FunkSVDRec\n",
    "else:\n",
    "    print(\"Error Algorithm Name!\")"
   ]
  },
  {
   "cell_type": "code",
   "execution_count": null,
   "id": "ff623f25",
   "metadata": {
    "scrolled": true
   },
   "outputs": [],
   "source": [
    "URM_all, URM_train, URM_val, ICM = utils.get_data_global_sample(dataset_version=dataset_version, \n",
    "                                                                train_percentage=0.7,\n",
    "                                                                setSeed=True)"
   ]
  },
  {
   "cell_type": "code",
   "execution_count": null,
   "id": "49f8760f",
   "metadata": {
    "scrolled": true
   },
   "outputs": [],
   "source": [
    "evaluator_validation = EvaluatorHoldout(URM_val, cutoff_list=[10])"
   ]
  },
  {
   "cell_type": "markdown",
   "id": "f42a74c1",
   "metadata": {},
   "source": [
    "## Hyperparameter Search"
   ]
  },
  {
   "cell_type": "code",
   "execution_count": null,
   "id": "11eed6fb",
   "metadata": {},
   "outputs": [],
   "source": [
    "if algorithm_name == \"FUNK_SVD\":\n",
    "    hyperparameters_range_dictionary = {\n",
    "        \"sgd_mode\": Categorical([\"sgd\", \"adagrad\", \"adam\"]),\n",
    "        \"epochs\": Categorical([500]),\n",
    "        \"use_bias\": Categorical([True, False]),\n",
    "        \"batch_size\": Categorical([1, 2, 4, 8, 16, 32, 64, 128, 256, 512, 1024]),\n",
    "        \"num_factors\": Integer(1, 200),\n",
    "        \"item_reg\": Real(low = 1e-5, high = 1e-2, prior = 'log-uniform'),\n",
    "        \"user_reg\": Real(low = 1e-5, high = 1e-2, prior = 'log-uniform'),\n",
    "        \"learning_rate\": Real(low = 1e-4, high = 1e-1, prior = 'log-uniform'),\n",
    "        \"negative_interactions_quota\": Real(low = 0.0, high = 0.5, prior = 'uniform'),\n",
    "        \"dropout_quota\": Real(low= 0, high=0.7, prior=\"uniform\")\n",
    "    }\n",
    "    \n",
    "    fit_keyword_args = {}\n",
    "\n",
    "elif algorithm_name == \"ASY_SVD\":\n",
    "    hyperparameters_range_dictionary = {\n",
    "        \"sgd_mode\": Categorical([\"sgd\", \"adagrad\", \"adam\"]),\n",
    "        \"epochs\": Categorical([500]),\n",
    "        \"use_bias\": Categorical([True, False]),\n",
    "        \"batch_size\": Categorical([1]),\n",
    "        \"num_factors\": Integer(1, 200),\n",
    "        \"item_reg\": Real(low = 1e-5, high = 1e-2, prior = 'log-uniform'),\n",
    "        \"user_reg\": Real(low = 1e-5, high = 1e-2, prior = 'log-uniform'),\n",
    "        \"learning_rate\": Real(low = 1e-4, high = 1e-1, prior = 'log-uniform'),\n",
    "        \"negative_interactions_quota\": Real(low = 0.0, high = 0.5, prior = 'uniform')\n",
    "    }\n",
    "    \n",
    "    fit_keyword_args = {}\n",
    "    \n",
    "else: # MF_BPR   \n",
    "    hyperparameters_range_dictionary = {\n",
    "        \"sgd_mode\": Categorical([\"sgd\", \"adagrad\", \"adam\"]),\n",
    "        \"epochs\": Categorical([1500]),\n",
    "        \"num_factors\": Integer(1, 200),\n",
    "        \"batch_size\": Categorical([1, 2, 4, 8, 16, 32, 64, 128, 256, 512, 1024]),\n",
    "        \"positive_reg\": Real(low = 1e-5, high = 1e-2, prior = 'log-uniform'),\n",
    "        \"negative_reg\": Real(low = 1e-5, high = 1e-2, prior = 'log-uniform'),\n",
    "        \"learning_rate\": Real(low = 1e-4, high = 1e-1, prior = 'log-uniform'),\n",
    "        \"dropout_quota\": Real(low= 0, high=0.7, prior=\"uniform\"),\n",
    "}\n",
    "    \n",
    "    fit_keyword_args = {\"positive_threshold_BPR\": None}"
   ]
  },
  {
   "cell_type": "code",
   "execution_count": null,
   "id": "3e4a2b18",
   "metadata": {},
   "outputs": [],
   "source": [
    "earlystopping_keywargs = {\n",
    "    \"validation_every_n\": 5,\n",
    "    \"stop_on_validation\": True,\n",
    "    \"evaluator_object\": evaluator_validation,\n",
    "    \"lower_validations_allowed\": 5,\n",
    "    \"validation_metric\": \"MAP\",\n",
    "}"
   ]
  },
  {
   "cell_type": "code",
   "execution_count": null,
   "id": "cb951489",
   "metadata": {},
   "outputs": [],
   "source": [
    "recommender_input_args = SearchInputRecommenderArgs(\n",
    "    CONSTRUCTOR_POSITIONAL_ARGS = [URM_train],\n",
    "    CONSTRUCTOR_KEYWORD_ARGS = {},\n",
    "    FIT_POSITIONAL_ARGS = [],\n",
    "    FIT_KEYWORD_ARGS = fit_keyword_args,\n",
    "    EARLYSTOPPING_KEYWORD_ARGS = earlystopping_keywargs,\n",
    ")"
   ]
  },
  {
   "cell_type": "code",
   "execution_count": null,
   "id": "9e3fbd2e",
   "metadata": {},
   "outputs": [],
   "source": [
    "utils.bayesian_search(\n",
    "    recommender_class, \n",
    "    recommender_input_args, \n",
    "    hyperparameters_range_dictionary, \n",
    "    evaluator_validation,\n",
    "    dataset_version=dataset_version,\n",
    "    n_cases=100,\n",
    "    perc_random_starts=0.3,\n",
    "    resume_from_saved=True\n",
    ")"
   ]
  },
  {
   "cell_type": "markdown",
   "id": "6dac1b16",
   "metadata": {},
   "source": [
    "## Best Model"
   ]
  },
  {
   "cell_type": "code",
   "execution_count": null,
   "id": "df4f90b1",
   "metadata": {},
   "outputs": [],
   "source": [
    "recommender = utils.fit_best_recommender(recommender_class, URM_all, dataset_version)\n",
    "utils.submission(recommender, dataset_version)"
   ]
  },
  {
   "cell_type": "code",
   "execution_count": null,
   "id": "c61a6bdf",
   "metadata": {},
   "outputs": [],
   "source": [
    "utils.save_item_scores(recommender_class, \n",
    "                       URM_train, \n",
    "                       evaluator_validation.users_to_evaluate, \n",
    "                       dataset_version, \n",
    "                       fast=True)"
   ]
  }
 ],
 "metadata": {
  "kernelspec": {
   "display_name": "Python 3.9 (RecSysFramework)",
   "language": "python",
   "name": "recsysframework"
  },
  "language_info": {
   "codemirror_mode": {
    "name": "ipython",
    "version": 3
   },
   "file_extension": ".py",
   "mimetype": "text/x-python",
   "name": "python",
   "nbconvert_exporter": "python",
   "pygments_lexer": "ipython3",
   "version": "3.8.15"
  }
 },
 "nbformat": 4,
 "nbformat_minor": 5
}
