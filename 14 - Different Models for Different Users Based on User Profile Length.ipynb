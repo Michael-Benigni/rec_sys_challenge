{
 "cells": [
  {
   "cell_type": "markdown",
   "id": "4079562a",
   "metadata": {},
   "source": [
    "# Different Models for Different Users\n",
    "## Based on User Profile Length"
   ]
  },
  {
   "cell_type": "code",
   "execution_count": null,
   "id": "b02adbd4",
   "metadata": {},
   "outputs": [],
   "source": [
    "def init_kaggle(run_on_kaggle, secret_name):\n",
    "    if run_on_kaggle:\n",
    "        from kaggle_secrets import UserSecretsClient\n",
    "        user_secrets = UserSecretsClient()\n",
    "        personal_token = user_secrets.get_secret(secret_name)\n",
    "        \n",
    "        import subprocess\n",
    "        subprocess.run([\"git\", \"clone\", \"https://\" + personal_token + \"@github.com/alecontuIT/rec_sys_challenge2022.git\"])\n",
    "        \n",
    "        import os\n",
    "        os.chdir(\"./rec_sys_challenge2022\")\n",
    "        \n",
    "        subprocess.run([\"pip\", \"install\", \"-r\", \"requirements.txt\"])\n",
    "        return True\n",
    "    \n",
    "    else:\n",
    "        return False"
   ]
  },
  {
   "cell_type": "code",
   "execution_count": null,
   "id": "833d059f",
   "metadata": {},
   "outputs": [],
   "source": [
    "kaggle = init_kaggle(False, \"recsys_git_token\")"
   ]
  },
  {
   "cell_type": "code",
   "execution_count": null,
   "id": "0f6d7930",
   "metadata": {
    "scrolled": false
   },
   "outputs": [],
   "source": [
    "import utils\n",
    "from recmodels import *\n",
    "from Recommenders.UserProfileRecommender.UserProfileRecommender import UserProfileRec\n",
    "from Evaluation.Evaluator import EvaluatorHoldout"
   ]
  },
  {
   "cell_type": "code",
   "execution_count": null,
   "id": "8b009879",
   "metadata": {},
   "outputs": [],
   "source": [
    "recommender_class = UserProfileRec\n",
    "dataset_version = \"interactions-all-ones\""
   ]
  },
  {
   "cell_type": "code",
   "execution_count": null,
   "id": "b50cbe30",
   "metadata": {},
   "outputs": [],
   "source": [
    "num_groups = 20\n",
    "cf_rec_classes = [P3AlphaRec, UserKNNCFRec, ItemKNNCFRec, RP3BetaRec, TopPopRec, EASE_R_Rec]#, IALSRec, SLIM_BPRRec]\n",
    "cb_rec_classes = []#ItemKNNCBFRec]"
   ]
  },
  {
   "cell_type": "code",
   "execution_count": null,
   "id": "b1cb7e3a",
   "metadata": {},
   "outputs": [],
   "source": [
    "URM_all, URM_train, URM_validation, ICM = utils.get_data_global_sample(dataset_version=dataset_version, \n",
    "                                                                       train_percentage=0.7,\n",
    "                                                                       setSeed=True)\n",
    "evaluator_validation = EvaluatorHoldout(URM_validation, cutoff_list=[10])"
   ]
  },
  {
   "cell_type": "code",
   "execution_count": null,
   "id": "1ccd0272",
   "metadata": {},
   "outputs": [],
   "source": [
    "recommender = UserProfileRec(URM_all, ICM, cf_rec_classes, cb_rec_classes, dataset_version)\n",
    "recommender.fit(num_groups)"
   ]
  },
  {
   "cell_type": "code",
   "execution_count": null,
   "id": "ae31b187",
   "metadata": {},
   "outputs": [],
   "source": [
    "recommender.save_model(recommender, \n",
    "                       utils.get_hyperparams_search_output_folder(recommender_class, \n",
    "                                                                  dataset_version=dataset_version))"
   ]
  },
  {
   "cell_type": "code",
   "execution_count": null,
   "id": "15399f54",
   "metadata": {
    "scrolled": true
   },
   "outputs": [],
   "source": [
    "prediction = utils.submission(recommender, dataset_version)"
   ]
  }
 ],
 "metadata": {
  "kernelspec": {
   "display_name": "Python 3.9 (RecSysFramework)",
   "language": "python",
   "name": "recsysframework"
  },
  "language_info": {
   "codemirror_mode": {
    "name": "ipython",
    "version": 3
   },
   "file_extension": ".py",
   "mimetype": "text/x-python",
   "name": "python",
   "nbconvert_exporter": "python",
   "pygments_lexer": "ipython3",
   "version": "3.8.15"
  }
 },
 "nbformat": 4,
 "nbformat_minor": 5
}
