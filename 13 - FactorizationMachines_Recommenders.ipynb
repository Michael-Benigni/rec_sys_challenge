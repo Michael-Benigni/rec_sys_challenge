{
 "cells": [
  {
   "cell_type": "markdown",
   "id": "19945790",
   "metadata": {},
   "source": [
    "# Factorization Machines Recommender"
   ]
  },
  {
   "cell_type": "code",
   "execution_count": null,
   "id": "3d88b454",
   "metadata": {},
   "outputs": [],
   "source": [
    "def init_kaggle(run_on_kaggle, secret_name):\n",
    "    if run_on_kaggle:\n",
    "        from kaggle_secrets import UserSecretsClient\n",
    "        user_secrets = UserSecretsClient()\n",
    "        personal_token = user_secrets.get_secret(secret_name)\n",
    "        \n",
    "        import subprocess\n",
    "        subprocess.run([\"git\", \"clone\", \"https://\" + personal_token + \"@github.com/alecontuIT/rec_sys_challenge2022.git\"])\n",
    "        \n",
    "        import os\n",
    "        os.chdir(\"./rec_sys_challenge2022\")\n",
    "        \n",
    "        subprocess.run([\"pip\", \"install\", \"-r\", \"requirements.txt\"])\n",
    "        return True\n",
    "    \n",
    "    else:\n",
    "        return False"
   ]
  },
  {
   "cell_type": "code",
   "execution_count": null,
   "id": "f7e2161b",
   "metadata": {
    "scrolled": false
   },
   "outputs": [],
   "source": [
    "kaggle = init_kaggle(False, \"recsys_git_token\")"
   ]
  },
  {
   "cell_type": "code",
   "execution_count": null,
   "id": "451499e1",
   "metadata": {},
   "outputs": [],
   "source": [
    "import utils \n",
    "from Recommenders.FactorizationMachines.FMRecommender import LightFMRecommender\n",
    "from scipy.stats import loguniform\n",
    "from Evaluation.Evaluator import EvaluatorHoldout\n",
    "from skopt.space import Real, Integer, Categorical\n",
    "from HyperparameterTuning.SearchAbstractClass import SearchInputRecommenderArgs"
   ]
  },
  {
   "cell_type": "code",
   "execution_count": null,
   "id": "1cb234ca",
   "metadata": {},
   "outputs": [],
   "source": [
    "recommender_class = LightFMRecommender\n",
    "dataset_version = \"interactions-all-ones\""
   ]
  },
  {
   "cell_type": "code",
   "execution_count": null,
   "id": "7a2a72a6",
   "metadata": {},
   "outputs": [],
   "source": [
    "URM_all, URM_train, URM_validation, ICM = utils.get_data_global_sample(dataset_version=dataset_version,\n",
    "                                                                       train_percentage=0.7,\n",
    "                                                                       setSeed=True)\n",
    "evaluator_validation = EvaluatorHoldout(URM_validation, cutoff_list=[10])"
   ]
  },
  {
   "cell_type": "markdown",
   "id": "a0737d46",
   "metadata": {},
   "source": [
    "## Hyperparameters Search"
   ]
  },
  {
   "cell_type": "code",
   "execution_count": null,
   "id": "22904d88",
   "metadata": {},
   "outputs": [],
   "source": [
    "hyperparameters_range_dictionary = {\n",
    "    \"epochs\": Categorical([300]),\n",
    "    \"no_components\": Integer(1,200), \n",
    "    \"learning_schedule\": Categorical(['adagrad', 'adadelta']), \n",
    "    \"loss\": Categorical(['bpr', 'warp', 'warp-kos']),\n",
    "    \"learning_rate\": Real(low= 1e-6, high=1e-1, prior=\"log-uniform\"),\n",
    "    \"item_alpha\": Real(low = 1e-5, high = 1e-2, prior = 'log-uniform'),\n",
    "    \"user_alpha\": Real(low = 1e-5, high = 1e-2, prior = 'log-uniform'),\n",
    "} "
   ]
  },
  {
   "cell_type": "code",
   "execution_count": null,
   "id": "e1e3e33b",
   "metadata": {},
   "outputs": [],
   "source": [
    "earlystopping_keywargs = {\n",
    "    \"validation_every_n\": 5,\n",
    "    \"stop_on_validation\": True,\n",
    "    \"evaluator_object\": evaluator_validation,\n",
    "    \"lower_validations_allowed\": 5,\n",
    "    \"validation_metric\": \"MAP\",\n",
    "}"
   ]
  },
  {
   "cell_type": "code",
   "execution_count": null,
   "id": "d9707229",
   "metadata": {},
   "outputs": [],
   "source": [
    "recommender_input_args = SearchInputRecommenderArgs(\n",
    "    CONSTRUCTOR_POSITIONAL_ARGS = [URM_train, ICM, None],     \n",
    "    CONSTRUCTOR_KEYWORD_ARGS = {},\n",
    "    FIT_POSITIONAL_ARGS = [],\n",
    "    FIT_KEYWORD_ARGS = {},\n",
    "    EARLYSTOPPING_KEYWORD_ARGS = earlystopping_keywargs,\n",
    ")"
   ]
  },
  {
   "cell_type": "code",
   "execution_count": null,
   "id": "048a9079",
   "metadata": {},
   "outputs": [],
   "source": [
    "hyper_search = utils.bayesian_search(\n",
    "    recommender_class, \n",
    "    recommender_input_args, \n",
    "    hyperparameters_range_dictionary, \n",
    "    evaluator_validation,\n",
    "    dataset_version=dataset_version,\n",
    "    n_cases = 100,\n",
    "    perc_random_starts=0.3,\n",
    "    kaggle=kaggle\n",
    ")"
   ]
  },
  {
   "cell_type": "markdown",
   "id": "7b524e6d",
   "metadata": {},
   "source": [
    "## Best Model"
   ]
  },
  {
   "cell_type": "code",
   "execution_count": null,
   "id": "6480be29",
   "metadata": {},
   "outputs": [],
   "source": [
    "recommender = utils.fit_best_recommender(recommender_class, URM_all, dataset_version)\n",
    "utils.submission(recommender, dataset_version)"
   ]
  },
  {
   "cell_type": "code",
   "execution_count": null,
   "id": "c7df5292",
   "metadata": {},
   "outputs": [],
   "source": [
    "utils.save_item_scores(recommender_class, \n",
    "                       URM_train, \n",
    "                       evaluator_validation.users_to_evaluate, \n",
    "                       dataset_version, \n",
    "                       fast=True)"
   ]
  }
 ],
 "metadata": {
  "kernelspec": {
   "display_name": "Python 3.9 (RecSysFramework)",
   "language": "python",
   "name": "recsysframework"
  },
  "language_info": {
   "codemirror_mode": {
    "name": "ipython",
    "version": 3
   },
   "file_extension": ".py",
   "mimetype": "text/x-python",
   "name": "python",
   "nbconvert_exporter": "python",
   "pygments_lexer": "ipython3",
   "version": "3.8.15"
  }
 },
 "nbformat": 4,
 "nbformat_minor": 5
}
