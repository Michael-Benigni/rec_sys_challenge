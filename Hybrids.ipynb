{
 "cells": [
  {
   "cell_type": "code",
   "execution_count": 1,
   "id": "fbf88b85",
   "metadata": {},
   "outputs": [
    {
     "name": "stdout",
     "output_type": "stream",
     "text": [
      "Tensorflow is not available\n"
     ]
    }
   ],
   "source": [
    "from Recommenders.LoadWrapperRecommender import FastLoadWrapperRecommender\n",
    "from recmodels import TopPopRec\n",
    "import utils"
   ]
  },
  {
   "cell_type": "code",
   "execution_count": 2,
   "id": "e07ab78a",
   "metadata": {},
   "outputs": [],
   "source": [
    "dataset_version = \"interactions-all-ones\"\n",
    "rec_class = TopPopRec"
   ]
  },
  {
   "cell_type": "code",
   "execution_count": 3,
   "id": "d2da4931",
   "metadata": {},
   "outputs": [
    {
     "name": "stdout",
     "output_type": "stream",
     "text": [
      "Warning: 31 (0.07 %) of 41629 users have no sampled items\n"
     ]
    }
   ],
   "source": [
    "URM_all, URM_train, URM_val, ICM = utils.get_data_global_sample(dataset_version=dataset_version, \n",
    "                                                                train_percentage=0.7,\n",
    "                                                                setSeed=True)"
   ]
  },
  {
   "cell_type": "code",
   "execution_count": 4,
   "id": "b0cb7fc3",
   "metadata": {},
   "outputs": [
    {
     "name": "stdout",
     "output_type": "stream",
     "text": [
      "Recommender_Base_ClassTopPopRecommender: URM Detected 3461 (12.4%) items with no interactions.\n",
      "TopPopRecommender: URM Detected 3461 (12.4%) items with no interactions.\n",
      "TopPopRecommender: Loading model from file 'recommendations/interactions-all-ones/TopPopRecommender/classic/optimizationTopPopRecommender_best_model.zip'\n",
      "TopPopRecommender: Loading complete\n"
     ]
    },
    {
     "data": {
      "text/plain": [
       "<Recommenders.LoadWrapperRecommender.FastLoadWrapperRecommender at 0x11f940a60>"
      ]
     },
     "execution_count": 4,
     "metadata": {},
     "output_type": "execute_result"
    }
   ],
   "source": [
    "FastLoadWrapperRecommender(URM_train, rec_class, dataset_version=dataset_version)"
   ]
  },
  {
   "cell_type": "code",
   "execution_count": null,
   "id": "e1065e60",
   "metadata": {},
   "outputs": [],
   "source": []
  }
 ],
 "metadata": {
  "kernelspec": {
   "display_name": "Python 3.9 (RecSysFramework)",
   "language": "python",
   "name": "recsysframework"
  },
  "language_info": {
   "codemirror_mode": {
    "name": "ipython",
    "version": 3
   },
   "file_extension": ".py",
   "mimetype": "text/x-python",
   "name": "python",
   "nbconvert_exporter": "python",
   "pygments_lexer": "ipython3",
   "version": "3.8.15"
  }
 },
 "nbformat": 4,
 "nbformat_minor": 5
}
