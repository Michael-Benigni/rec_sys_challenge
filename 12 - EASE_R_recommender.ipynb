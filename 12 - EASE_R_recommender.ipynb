{
 "cells": [
  {
   "cell_type": "markdown",
   "id": "1fe752be",
   "metadata": {},
   "source": [
    "# EASE_R Recommender"
   ]
  },
  {
   "cell_type": "code",
   "execution_count": null,
   "id": "85af286b",
   "metadata": {},
   "outputs": [],
   "source": [
    "def init_kaggle(run_on_kaggle, secret_name):\n",
    "    if run_on_kaggle:\n",
    "        from kaggle_secrets import UserSecretsClient\n",
    "        user_secrets = UserSecretsClient()\n",
    "        personal_token = user_secrets.get_secret(secret_name)\n",
    "        \n",
    "        import subprocess\n",
    "        subprocess.run([\"git\", \"clone\", \"https://\" + personal_token + \"@github.com/alecontuIT/rec_sys_challenge2022.git\"])\n",
    "        \n",
    "        import os\n",
    "        os.chdir(\"./rec_sys_challenge2022\")\n",
    "        \n",
    "        subprocess.run([\"pip\", \"install\", \"-r\", \"requirements.txt\"])\n",
    "        return True\n",
    "    \n",
    "    else:\n",
    "        return False"
   ]
  },
  {
   "cell_type": "code",
   "execution_count": null,
   "id": "ba2c408d",
   "metadata": {},
   "outputs": [],
   "source": [
    "kaggle = init_kaggle(False, \"recsys_git_token\")"
   ]
  },
  {
   "cell_type": "code",
   "execution_count": null,
   "id": "29bf2ac5",
   "metadata": {},
   "outputs": [],
   "source": [
    "import utils\n",
    "from recmodels import EASE_R_Rec\n",
    "from scipy.stats import loguniform\n",
    "from Evaluation.Evaluator import EvaluatorHoldout\n",
    "from skopt.space import Real, Integer, Categorical\n",
    "from HyperparameterTuning.SearchAbstractClass import SearchInputRecommenderArgs"
   ]
  },
  {
   "cell_type": "code",
   "execution_count": null,
   "id": "2e4a3d7f",
   "metadata": {},
   "outputs": [],
   "source": [
    "recommender_class = EASE_R_Rec\n",
    "dataset_version = \"interactions-all-ones\""
   ]
  },
  {
   "cell_type": "code",
   "execution_count": null,
   "id": "ff623f25",
   "metadata": {
    "scrolled": true
   },
   "outputs": [],
   "source": [
    "URM_all, URM_train, URM_validation, ICM = utils.get_data_global_sample(dataset_version,\n",
    "                                                         train_percentage = 0.7,\n",
    "                                                         setSeed=True)\n",
    "evaluator_validation = EvaluatorHoldout(URM_validation, cutoff_list=[10])"
   ]
  },
  {
   "cell_type": "markdown",
   "id": "51051b9a",
   "metadata": {},
   "source": [
    "## Hyperparameter search"
   ]
  },
  {
   "cell_type": "code",
   "execution_count": null,
   "id": "7023fd14",
   "metadata": {},
   "outputs": [],
   "source": [
    "sparse_threshold_quota = 0.3"
   ]
  },
  {
   "cell_type": "code",
   "execution_count": null,
   "id": "11eed6fb",
   "metadata": {},
   "outputs": [],
   "source": [
    "hyperparameters_range_dictionary = {\n",
    "    \"l2_norm\": Real(low = 1e0, high = 1e7, prior = 'log-uniform'), \n",
    "    #\"topK\" : Categorical([None]),\n",
    "    #\"normalize_metrics\" : Categorical([False])\n",
    "    # OR\n",
    "    \"topK\" : Integer(5, 1000),\n",
    "    \"normalize_metrics\" : Categorical([True, False])\n",
    "}"
   ]
  },
  {
   "cell_type": "code",
   "execution_count": null,
   "id": "cb951489",
   "metadata": {},
   "outputs": [],
   "source": [
    "recommender_input_args = SearchInputRecommenderArgs(\n",
    "    CONSTRUCTOR_POSITIONAL_ARGS = [URM_train, sparse_threshold_quota],    \n",
    "    CONSTRUCTOR_KEYWORD_ARGS = {},\n",
    "    FIT_POSITIONAL_ARGS = [],\n",
    "    FIT_KEYWORD_ARGS = {},\n",
    "    EARLYSTOPPING_KEYWORD_ARGS = {}, \n",
    ")"
   ]
  },
  {
   "cell_type": "code",
   "execution_count": null,
   "id": "b7a5fe9d",
   "metadata": {},
   "outputs": [],
   "source": [
    "utils.bayesian_search(\n",
    "    recommender_class, \n",
    "    recommender_input_args, \n",
    "    hyperparameters_range_dictionary, \n",
    "    evaluator_validation,\n",
    "    dataset_version=dataset_version,\n",
    "    n_cases = 100,\n",
    "    perc_random_starts = 0.3,\n",
    "    resume_from_saved=True\n",
    ")"
   ]
  },
  {
   "cell_type": "markdown",
   "id": "042aaf03",
   "metadata": {},
   "source": [
    "## Best Model"
   ]
  },
  {
   "cell_type": "code",
   "execution_count": null,
   "id": "c02cac5a",
   "metadata": {
    "scrolled": true
   },
   "outputs": [],
   "source": [
    "recommender = utils.fit_best_recommender(recommender_class, URM_all, dataset_version)\n",
    "utils.submission(recommender, dataset_version)"
   ]
  },
  {
   "cell_type": "code",
   "execution_count": null,
   "id": "99901a2a",
   "metadata": {},
   "outputs": [],
   "source": [
    "from HyperparameterTuning.SearchSingleCase import SearchSingleCase\n",
    "output_folder_path = utils.get_hyperparams_search_output_folder(recommender_class, dataset_version=dataset_version)\n",
    "   \n",
    "a ={\"l2_norm\": 134.2633015839416, \"topK\": 415, \"normalize_metrics\": False}\n",
    "\n",
    "recommender_input_args = SearchInputRecommenderArgs(\n",
    "    CONSTRUCTOR_POSITIONAL_ARGS = [URM_train, sparse_threshold_quota],    \n",
    "    CONSTRUCTOR_KEYWORD_ARGS = {},\n",
    "    FIT_POSITIONAL_ARGS = [],\n",
    "    FIT_KEYWORD_ARGS = {},\n",
    "    EARLYSTOPPING_KEYWORD_ARGS = {}, \n",
    ")\n",
    "urm = recommender_input_args.CONSTRUCTOR_POSITIONAL_ARGS[0]\n",
    "hyperparameterSearch = SearchSingleCase(recommender_class, evaluator_validation=evaluator_validation)\n",
    "hyperparameterSearch.search(recommender_input_args,\n",
    "                                   fit_hyperparameters_values={\"l2_norm\": 134.2633015839416, \"topK\": 415, \"normalize_metrics\": False},\n",
    "                                   metric_to_optimize = \"MAP\",\n",
    "                                   cutoff_to_optimize = 10,\n",
    "                                   output_folder_path = output_folder_path,\n",
    "                                   output_file_name_root = recommender_class.RECOMMENDER_NAME,\n",
    "                                   resume_from_saved = False,\n",
    "                                   save_model = \"best\",\n",
    "                                   )"
   ]
  },
  {
   "cell_type": "code",
   "execution_count": null,
   "id": "4f1fa0ca",
   "metadata": {},
   "outputs": [],
   "source": []
  }
 ],
 "metadata": {
  "kernelspec": {
   "display_name": "Python 3.9 (RecSysFramework)",
   "language": "python",
   "name": "recsysframework"
  },
  "language_info": {
   "codemirror_mode": {
    "name": "ipython",
    "version": 3
   },
   "file_extension": ".py",
   "mimetype": "text/x-python",
   "name": "python",
   "nbconvert_exporter": "python",
   "pygments_lexer": "ipython3",
   "version": "3.8.15"
  }
 },
 "nbformat": 4,
 "nbformat_minor": 5
}
