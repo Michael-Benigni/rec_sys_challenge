{
 "cells": [
  {
   "cell_type": "markdown",
   "id": "1fe752be",
   "metadata": {},
   "source": [
    "# Different Structure Hybrid Recommender"
   ]
  },
  {
   "cell_type": "code",
   "execution_count": null,
   "id": "84543c01",
   "metadata": {},
   "outputs": [],
   "source": [
    "def init_kaggle(run_on_kaggle, secret_name):\n",
    "    if run_on_kaggle:\n",
    "        from kaggle_secrets import UserSecretsClient\n",
    "        user_secrets = UserSecretsClient()\n",
    "        personal_token = user_secrets.get_secret(secret_name)\n",
    "        \n",
    "        import subprocess\n",
    "        subprocess.run([\"git\", \"clone\", \"https://\" + personal_token + \"@github.com/alecontuIT/rec_sys_challenge2022.git\"])\n",
    "        \n",
    "        import os\n",
    "        os.chdir(\"./rec_sys_challenge2022\")\n",
    "        \n",
    "        subprocess.run([\"pip\", \"install\", \"-r\", \"requirements.txt\"])\n",
    "        return True\n",
    "    \n",
    "    else:\n",
    "        return False"
   ]
  },
  {
   "cell_type": "code",
   "execution_count": null,
   "id": "bfde2b95",
   "metadata": {},
   "outputs": [],
   "source": [
    "dataset_version = \"interactions-summed-transformed\"\n",
    "kaggle = init_kaggle(False, \"recsys_git_token\")"
   ]
  },
  {
   "cell_type": "code",
   "execution_count": null,
   "id": "29bf2ac5",
   "metadata": {},
   "outputs": [],
   "source": [
    "import utils\n",
    "from recmodels import *\n",
    "from Recommenders.Hybrids.DiffStructHybridRecommender import DiffStructHybridRecommender\n",
    "from HyperparameterTuning.IterativeHybridOptimizer import DiffStructHybridOptimizer\n",
    "from scipy.stats import loguniform\n",
    "from Evaluation.Evaluator import EvaluatorHoldout\n",
    "from skopt.space import Real, Integer, Categorical\n",
    "from HyperparameterTuning.SearchAbstractClass import SearchInputRecommenderArgs"
   ]
  },
  {
   "cell_type": "code",
   "execution_count": null,
   "id": "b33aca83",
   "metadata": {},
   "outputs": [],
   "source": [
    "recommender_class = DiffStructHybridRecommender"
   ]
  },
  {
   "cell_type": "code",
   "execution_count": null,
   "id": "ff623f25",
   "metadata": {
    "scrolled": true
   },
   "outputs": [],
   "source": [
    "URM_all, URM_train, URM_val, ICM = utils.get_data_global_sample(dataset_version=dataset_version, \n",
    "                                                                train_percentage=0.7,\n",
    "                                                                setSeed=True,\n",
    "                                                                k=1,\n",
    "                                                                transformation=\"tanh\")"
   ]
  },
  {
   "cell_type": "code",
   "execution_count": null,
   "id": "ae9355e8",
   "metadata": {},
   "outputs": [],
   "source": [
    "#utils.generate_best_models_after_commit(URM_all, URM_train, URM_val, RP3BetaRec, dataset_version)"
   ]
  },
  {
   "cell_type": "markdown",
   "id": "115681d8",
   "metadata": {},
   "source": [
    "## Optimizer"
   ]
  },
  {
   "cell_type": "code",
   "execution_count": null,
   "id": "c4345a4d",
   "metadata": {},
   "outputs": [],
   "source": [
    "# IF YOU WANT TO ADD A TRAINED HYBRID IN THE DiffStructHybridOptimizer\n",
    "\n",
    "version = \"\" \n",
    "\n",
    "hybrid = DiffStructHybridRecommender(URM_train, \n",
    "                            recs_on_urm_splitted=True, \n",
    "                            dataset_version=dataset_version)\n",
    "\n",
    "hybrid.load_model_by_version(version)\n",
    "\n",
    "# check if the MAP is correct\n",
    "from Evaluation.Evaluator import EvaluatorHoldout\n",
    "evaluator_validation = EvaluatorHoldout(URM_val, cutoff_list=[10])\n",
    "evaluator_validation.evaluateRecommender(hybrid)"
   ]
  },
  {
   "cell_type": "code",
   "execution_count": null,
   "id": "1a5c2fb5",
   "metadata": {},
   "outputs": [],
   "source": [
    "optimizer = DiffStructHybridOptimizer(URM_all,\n",
    "                                      URM_train, \n",
    "                                      URM_val,  \n",
    "                                      dataset_version, \n",
    "                                      not_trained_recs_classes=\n",
    "                                      [#TopPopRec, \n",
    "                                       #ItemKNNCFRec, \n",
    "                                       #UserKNNCFRec, \n",
    "                                       #IALSRec,\n",
    "                                       #SLIM_BPRRec, \n",
    "                                       P3AlphaRec, \n",
    "                                       RP3BetaRec, \n",
    "                                       EASE_R_Rec, \n",
    "                                       #MatrixFactorizationBPRRec, \n",
    "                                       #FunkSVDRec, \n",
    "                                       #AsySVDRec, \n",
    "                                       #PureSVDRec, \n",
    "                                       #PureSVDItemRec, \n",
    "                                       #ScaledPureSVDRec, \n",
    "                                       #SVDFeatureRec\n",
    "                                       ], \n",
    "                                      trained_recs=[])\n"
   ]
  },
  {
   "cell_type": "code",
   "execution_count": null,
   "id": "f1b6c01f",
   "metadata": {
    "scrolled": false
   },
   "outputs": [],
   "source": [
    "optimizer.incremental_bayesian_search(50, 0.3)"
   ]
  },
  {
   "cell_type": "code",
   "execution_count": null,
   "id": "218940fd",
   "metadata": {},
   "outputs": [],
   "source": [
    "# Hybrid for which you want to produce the submission\n",
    "best_version = \"\" \n",
    "\n",
    "hybrid = DiffStructHybridRecommender(URM_all, \n",
    "                            recs_on_urm_splitted=False, \n",
    "                            dataset_version=dataset_version)\n",
    "\n",
    "hybrid.load_model_by_version(best_version)\n",
    "\n",
    "# check if the MAP is correct, it must be 0.0\n",
    "from Evaluation.Evaluator import EvaluatorHoldout\n",
    "evaluator_validation = EvaluatorHoldout(URM_val, cutoff_list=[10])\n",
    "evaluator_validation.evaluateRecommender(hybrid)"
   ]
  },
  {
   "cell_type": "code",
   "execution_count": null,
   "id": "7212a267",
   "metadata": {},
   "outputs": [],
   "source": [
    "utils.hybrid_submission(hybrid, dataset_version)"
   ]
  },
  {
   "cell_type": "code",
   "execution_count": null,
   "id": "546494aa",
   "metadata": {},
   "outputs": [],
   "source": []
  }
 ],
 "metadata": {
  "kernelspec": {
   "display_name": "Python 3.9 (RecSysFramework)",
   "language": "python",
   "name": "recsysframework"
  },
  "language_info": {
   "codemirror_mode": {
    "name": "ipython",
    "version": 3
   },
   "file_extension": ".py",
   "mimetype": "text/x-python",
   "name": "python",
   "nbconvert_exporter": "python",
   "pygments_lexer": "ipython3",
   "version": "3.8.15"
  }
 },
 "nbformat": 4,
 "nbformat_minor": 5
}
