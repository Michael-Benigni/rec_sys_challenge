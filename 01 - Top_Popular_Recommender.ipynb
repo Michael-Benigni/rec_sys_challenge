{
 "cells": [
  {
   "cell_type": "markdown",
   "id": "949cbd62",
   "metadata": {},
   "source": [
    "# Top Popular Recommender"
   ]
  },
  {
   "cell_type": "code",
   "execution_count": null,
   "id": "162f3f35",
   "metadata": {},
   "outputs": [],
   "source": [
    "def init_kaggle(run_on_kaggle, secret_name):\n",
    "    if run_on_kaggle:\n",
    "        from kaggle_secrets import UserSecretsClient\n",
    "        user_secrets = UserSecretsClient()\n",
    "        personal_token = user_secrets.get_secret(secret_name)\n",
    "        \n",
    "        import subprocess\n",
    "        subprocess.run([\"git\", \"clone\", \"https://\" + personal_token + \"@github.com/alecontuIT/rec_sys_challenge2022.git\"])\n",
    "        \n",
    "        import os\n",
    "        os.chdir(\"./rec_sys_challenge2022\")\n",
    "        \n",
    "        subprocess.run([\"pip\", \"install\", \"-r\", \"requirements.txt\"])\n",
    "        return True\n",
    "    \n",
    "    else:\n",
    "        return False"
   ]
  },
  {
   "cell_type": "code",
   "execution_count": null,
   "id": "0957603b",
   "metadata": {},
   "outputs": [],
   "source": [
    "kaggle = init_kaggle(False, \"recsys_git_token\")"
   ]
  },
  {
   "cell_type": "code",
   "execution_count": null,
   "id": "42a70f83",
   "metadata": {},
   "outputs": [],
   "source": [
    "import utils \n",
    "import os\n",
    "from recmodels import TopPopRec\n",
    "from Evaluation.Evaluator import EvaluatorHoldout\n",
    "from HyperparameterTuning.SearchAbstractClass import SearchInputRecommenderArgs\n",
    "from Evaluation.Evaluator import EvaluatorHoldout"
   ]
  },
  {
   "cell_type": "code",
   "execution_count": null,
   "id": "ed429442",
   "metadata": {},
   "outputs": [],
   "source": [
    "dataset_version = \"interactions-all-ones\"\n",
    "recommender_class = TopPopRec"
   ]
  },
  {
   "cell_type": "code",
   "execution_count": null,
   "id": "ba4e254b",
   "metadata": {
    "scrolled": true
   },
   "outputs": [],
   "source": [
    "URM_csr, URM_train, URM_validation, _ = utils.get_data_global_sample(dataset_version=dataset_version, \n",
    "                                                                     train_percentage=0.7, \n",
    "                                                                     setSeed=True)"
   ]
  },
  {
   "cell_type": "code",
   "execution_count": null,
   "id": "e3d800dd",
   "metadata": {
    "scrolled": true
   },
   "outputs": [],
   "source": [
    "evaluator_validation = EvaluatorHoldout(URM_validation, cutoff_list=[10])"
   ]
  },
  {
   "cell_type": "markdown",
   "id": "aac26725",
   "metadata": {},
   "source": [
    "## Validation"
   ]
  },
  {
   "cell_type": "code",
   "execution_count": null,
   "id": "daf9d9de",
   "metadata": {
    "scrolled": true
   },
   "outputs": [],
   "source": [
    "hyperparameters_range_dictionary = {}"
   ]
  },
  {
   "cell_type": "code",
   "execution_count": null,
   "id": "a0b42c86",
   "metadata": {},
   "outputs": [],
   "source": [
    "recommender_input_args = SearchInputRecommenderArgs(\n",
    "    CONSTRUCTOR_POSITIONAL_ARGS = [URM_train],     \n",
    "    CONSTRUCTOR_KEYWORD_ARGS = {},\n",
    "    FIT_POSITIONAL_ARGS = [],\n",
    "    FIT_KEYWORD_ARGS = {},\n",
    "    EARLYSTOPPING_KEYWORD_ARGS = {},\n",
    ")"
   ]
  },
  {
   "cell_type": "code",
   "execution_count": null,
   "id": "bd2c984e",
   "metadata": {},
   "outputs": [],
   "source": [
    "utils.bayesian_search(\n",
    "    recommender_class, \n",
    "    recommender_input_args, \n",
    "    hyperparameters_range_dictionary, \n",
    "    evaluator_validation,\n",
    "    dataset_version=dataset_version,\n",
    "    n_cases = 100,\n",
    "    perc_random_starts = 0.3\n",
    ")"
   ]
  },
  {
   "cell_type": "markdown",
   "id": "5b6840d6",
   "metadata": {},
   "source": [
    "## Best Model"
   ]
  },
  {
   "cell_type": "code",
   "execution_count": null,
   "id": "9e4a9908",
   "metadata": {},
   "outputs": [],
   "source": [
    "recommender = utils.fit_best_recommender(recommender_class, URM_csr, dataset_version)\n",
    "utils.submission(recommender, dataset_version)"
   ]
  },
  {
   "cell_type": "markdown",
   "id": "e41eb7f0",
   "metadata": {},
   "source": [
    "### Save Scores"
   ]
  },
  {
   "cell_type": "code",
   "execution_count": null,
   "id": "eacb1d03",
   "metadata": {},
   "outputs": [],
   "source": [
    "utils.save_item_scores(recommender_class, \n",
    "                       URM_train, \n",
    "                       evaluator_validation.users_to_evaluate, \n",
    "                       dataset_version, \n",
    "                       fast=True)"
   ]
  },
  {
   "cell_type": "code",
   "execution_count": null,
   "id": "c0879208",
   "metadata": {},
   "outputs": [],
   "source": []
  }
 ],
 "metadata": {
  "kernelspec": {
   "display_name": "Python 3.9 (RecSysFramework)",
   "language": "python",
   "name": "recsysframework"
  },
  "language_info": {
   "codemirror_mode": {
    "name": "ipython",
    "version": 3
   },
   "file_extension": ".py",
   "mimetype": "text/x-python",
   "name": "python",
   "nbconvert_exporter": "python",
   "pygments_lexer": "ipython3",
   "version": "3.8.15"
  }
 },
 "nbformat": 4,
 "nbformat_minor": 5
}
