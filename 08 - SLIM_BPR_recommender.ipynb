{
 "cells": [
  {
   "cell_type": "markdown",
   "id": "1fe752be",
   "metadata": {},
   "source": [
    "# SLIM with BPR Recommender"
   ]
  },
  {
   "cell_type": "code",
   "execution_count": null,
   "id": "09102693",
   "metadata": {},
   "outputs": [],
   "source": [
    "def init_kaggle(run_on_kaggle, secret_name):\n",
    "    if run_on_kaggle:\n",
    "        from kaggle_secrets import UserSecretsClient\n",
    "        user_secrets = UserSecretsClient()\n",
    "        personal_token = user_secrets.get_secret(secret_name)\n",
    "        \n",
    "        import subprocess\n",
    "        subprocess.run([\"git\", \"clone\", \"https://\" + personal_token + \"@github.com/alecontuIT/rec_sys_challenge2022.git\"])\n",
    "        \n",
    "        import os\n",
    "        os.chdir(\"./rec_sys_challenge2022\")\n",
    "        \n",
    "        subprocess.run([\"pip\", \"install\", \"-r\", \"requirements.txt\"])\n",
    "        subprocess.run([\"python\", \"run_compile_all_cython.py\"])\n",
    "        return True\n",
    "    \n",
    "    else:\n",
    "        return False"
   ]
  },
  {
   "cell_type": "code",
   "execution_count": null,
   "id": "ddb09417",
   "metadata": {},
   "outputs": [],
   "source": [
    "kaggle = init_kaggle(False, \"recsys_git_token\")"
   ]
  },
  {
   "cell_type": "code",
   "execution_count": null,
   "id": "29bf2ac5",
   "metadata": {},
   "outputs": [],
   "source": [
    "import utils\n",
    "from recmodels import SLIM_BPRRec\n",
    "from scipy.stats import loguniform\n",
    "from Evaluation.Evaluator import EvaluatorHoldout\n",
    "from skopt.space import Real, Integer, Categorical\n",
    "from HyperparameterTuning.SearchAbstractClass import SearchInputRecommenderArgs"
   ]
  },
  {
   "cell_type": "code",
   "execution_count": null,
   "id": "2f75060c",
   "metadata": {},
   "outputs": [],
   "source": [
    "recommender_class = SLIM_BPRRec\n",
    "dataset_version = \"interactions-all-ones\""
   ]
  },
  {
   "cell_type": "code",
   "execution_count": null,
   "id": "ff623f25",
   "metadata": {
    "scrolled": true
   },
   "outputs": [],
   "source": [
    "URM_all, URM_train, URM_val, ICM = utils.get_data_global_sample(dataset_version=dataset_version, \n",
    "                                                                train_percentage=0.7,\n",
    "                                                                setSeed=True)"
   ]
  },
  {
   "cell_type": "code",
   "execution_count": null,
   "id": "49f8760f",
   "metadata": {
    "scrolled": true
   },
   "outputs": [],
   "source": [
    "evaluator_validation = EvaluatorHoldout(URM_val, cutoff_list=[10])"
   ]
  },
  {
   "cell_type": "markdown",
   "id": "dbcfe66c",
   "metadata": {},
   "source": [
    "## Hyperparameter search"
   ]
  },
  {
   "cell_type": "code",
   "execution_count": null,
   "id": "18b7408b",
   "metadata": {},
   "outputs": [],
   "source": [
    "free_mem_threshold = 0.1"
   ]
  },
  {
   "cell_type": "code",
   "execution_count": null,
   "id": "11eed6fb",
   "metadata": {},
   "outputs": [],
   "source": [
    "#'''\n",
    "hyperparameters_range_dictionary = {\n",
    "    \"topK\": Integer(1, 1000),\n",
    "    \"epochs\": Categorical([1500]),\n",
    "    \"symmetric\": Categorical([True, False]),\n",
    "    \"sgd_mode\": Categorical(['adagrad', 'rmsprop', 'adam', 'sgd']),\n",
    "    \"lambda_i\": Real(low = 1e-5, high = 1e3, prior = 'log-uniform'),\n",
    "    \"lambda_j\": Real(low = 1e-5, high = 1e3, prior = 'log-uniform'),\n",
    "    \"learning_rate\": Real(low = 1e-5, high = 1, prior = 'log-uniform')\n",
    "}\n",
    "\n",
    "'''\n",
    "hyperparameters_range_dictionary = {\n",
    "    \"topK\" : Integer(1, 1000),\n",
    "    \"epochs\": Categorical([300]),\n",
    "    \"lambda_i\" : Real(low= 1e-5, high=1e3, prior=\"log-uniform\"),\n",
    "    \"lambda_j\" : Real(low= 1e-5, high=1e3, prior=\"log-uniform\"),\n",
    "    \"learning_rate\" : Real(low= 1e-5, high=1e-1, prior=\"log-uniform\"),\n",
    "    \"symmetric\": Categorical([True, False]),\n",
    "    \"sgd_mode\": Categorical(['adagrad', 'rmsprop', 'adam', 'sgd']),\n",
    "    #\"gamma\": Categorical([0.995]),\n",
    "    #\"beta_1\": Categorical([0.9]), \n",
    "    #\"beta_2\": Categorical([0.999])\n",
    "}\n",
    "'''"
   ]
  },
  {
   "cell_type": "code",
   "execution_count": null,
   "id": "c9a9f676",
   "metadata": {},
   "outputs": [],
   "source": [
    "earlystopping_keywargs = {\n",
    "    \"validation_every_n\": 5,\n",
    "    \"stop_on_validation\": True,\n",
    "    \"evaluator_object\": evaluator_validation,\n",
    "    \"lower_validations_allowed\": 5,\n",
    "    \"validation_metric\": \"MAP\",\n",
    "}"
   ]
  },
  {
   "cell_type": "code",
   "execution_count": null,
   "id": "cb951489",
   "metadata": {},
   "outputs": [],
   "source": [
    "recommender_input_args = SearchInputRecommenderArgs(\n",
    "    CONSTRUCTOR_POSITIONAL_ARGS = [URM_train, free_mem_threshold],     \n",
    "    CONSTRUCTOR_KEYWORD_ARGS = {},\n",
    "    FIT_POSITIONAL_ARGS = [],\n",
    "    FIT_KEYWORD_ARGS = {\"positive_threshold_BPR\": None,\n",
    "                        'train_with_sparse_weights': False,\n",
    "                        'allow_train_with_sparse_weights': False},\n",
    "    EARLYSTOPPING_KEYWORD_ARGS = earlystopping_keywargs, \n",
    ")"
   ]
  },
  {
   "cell_type": "code",
   "execution_count": null,
   "id": "b7a5fe9d",
   "metadata": {},
   "outputs": [],
   "source": [
    "utils.bayesian_search(\n",
    "    recommender_class, \n",
    "    recommender_input_args, \n",
    "    hyperparameters_range_dictionary, \n",
    "    evaluator_validation,\n",
    "    dataset_version=dataset_version,\n",
    "    n_cases=150,\n",
    "    perc_random_starts=0.1,\n",
    "    resume_from_saved = True\n",
    ")"
   ]
  },
  {
   "cell_type": "code",
   "execution_count": null,
   "id": "190b37a2",
   "metadata": {},
   "outputs": [],
   "source": [
    "import os\n",
    "import zipfile\n",
    "current_temp_folder = utils.get_hyperparams_search_output_folder(recommender_class, dataset_version) + \"SLIM_BPR_Recommender_metadata\"\n",
    "print(current_temp_folder)\n",
    "with zipfile.ZipFile(current_temp_folder + \".zip\", 'w', compression=zipfile.ZIP_DEFLATED) as myzip:\n",
    "    for file_to_compress in os.listdir(current_temp_folder):\n",
    "        print(file_to_compress)\n",
    "        myzip.write(current_temp_folder + \"/\" + file_to_compress, arcname = file_to_compress)"
   ]
  },
  {
   "cell_type": "markdown",
   "id": "34ea2f65",
   "metadata": {},
   "source": [
    "## Best Model"
   ]
  },
  {
   "cell_type": "code",
   "execution_count": null,
   "id": "c02cac5a",
   "metadata": {},
   "outputs": [],
   "source": [
    "recommender = utils.fit_best_recommender(recommender_class, URM_all, dataset_version)\n",
    "utils.submission(recommender, dataset_version)"
   ]
  }
 ],
 "metadata": {
  "kernelspec": {
   "display_name": "Python 3.9 (RecSysFramework)",
   "language": "python",
   "name": "recsysframework"
  },
  "language_info": {
   "codemirror_mode": {
    "name": "ipython",
    "version": 3
   },
   "file_extension": ".py",
   "mimetype": "text/x-python",
   "name": "python",
   "nbconvert_exporter": "python",
   "pygments_lexer": "ipython3",
   "version": "3.8.15"
  }
 },
 "nbformat": 4,
 "nbformat_minor": 5
}
