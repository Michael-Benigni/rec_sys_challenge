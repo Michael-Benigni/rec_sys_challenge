{
 "cells": [
  {
   "cell_type": "markdown",
   "id": "1fe752be",
   "metadata": {},
   "source": [
    "# SLIM Elastic Net Recommender"
   ]
  },
  {
   "cell_type": "code",
   "execution_count": null,
   "id": "d0feed74",
   "metadata": {},
   "outputs": [],
   "source": [
    "def init_kaggle(run_on_kaggle, secret_name):\n",
    "    if run_on_kaggle:\n",
    "        from kaggle_secrets import UserSecretsClient\n",
    "        user_secrets = UserSecretsClient()\n",
    "        personal_token = user_secrets.get_secret(secret_name)\n",
    "        \n",
    "        import subprocess\n",
    "        subprocess.run([\"git\", \"clone\", \"https://\" + personal_token + \"@github.com/alecontuIT/rec_sys_challenge2022.git\"])\n",
    "        \n",
    "        import os\n",
    "        os.chdir(\"./rec_sys_challenge2022\")\n",
    "        \n",
    "        subprocess.run([\"pip\", \"install\", \"-r\", \"requirements.txt\"])\n",
    "        return True\n",
    "    \n",
    "    else:\n",
    "        return False"
   ]
  },
  {
   "cell_type": "code",
   "execution_count": null,
   "id": "f90c491a",
   "metadata": {},
   "outputs": [],
   "source": [
    "kaggle = init_kaggle(False, \"recsys_git_token\")"
   ]
  },
  {
   "cell_type": "code",
   "execution_count": null,
   "id": "29bf2ac5",
   "metadata": {},
   "outputs": [],
   "source": [
    "import utils\n",
    "from scipy.stats import loguniform\n",
    "from Evaluation.Evaluator import EvaluatorHoldout\n",
    "from skopt.space import Real, Integer, Categorical\n",
    "from HyperparameterTuning.SearchAbstractClass import SearchInputRecommenderArgs"
   ]
  },
  {
   "cell_type": "code",
   "execution_count": null,
   "id": "ddb09417",
   "metadata": {},
   "outputs": [],
   "source": [
    "from multiprocessing import cpu_count\n",
    "from Recommenders.SLIM.SLIMElasticNetRecommender import MultiThreadSLIM_SLIMElasticNetRecommender\n",
    "\n",
    "class SLIMElasticNetRec(MultiThreadSLIM_SLIMElasticNetRecommender):\n",
    "    def fit(self, \n",
    "            alpha=1.0, \n",
    "            l1_ratio=0.1, \n",
    "            positive_only=True, \n",
    "            topK=100,\n",
    "            verbose=True, \n",
    "            workers=int(cpu_count())):\n",
    "        super(SLIMElasticNetRec, self).fit(\n",
    "            alpha=alpha, \n",
    "            l1_ratio=l1_ratio, \n",
    "            positive_only=positive_only, \n",
    "            topK=topK,\n",
    "            verbose=verbose, \n",
    "            workers=workers)\n",
    "        self.RECOMMENDER_VERSION = \"alpha-\" + str(alpha) +  \"_l1_ratio-\" + str(l1_ratio) + \"_pos_only-\" + str(positive_only) + \"_topK-\" + str(topK)"
   ]
  },
  {
   "cell_type": "code",
   "execution_count": null,
   "id": "532e4267",
   "metadata": {},
   "outputs": [],
   "source": [
    "recommender_class = SLIMElasticNetRec\n",
    "dataset_version = \"interactions-all-ones\""
   ]
  },
  {
   "cell_type": "code",
   "execution_count": null,
   "id": "ff623f25",
   "metadata": {
    "scrolled": true
   },
   "outputs": [],
   "source": [
    "URM_all, URM_train, URM_val, ICM = utils.get_data_global_sample(dataset_version=dataset_version, \n",
    "                                                                train_percentage=0.7,\n",
    "                                                                setSeed=True)"
   ]
  },
  {
   "cell_type": "code",
   "execution_count": null,
   "id": "49f8760f",
   "metadata": {
    "scrolled": true
   },
   "outputs": [],
   "source": [
    "evaluator_validation = EvaluatorHoldout(URM_val, cutoff_list=[10])"
   ]
  },
  {
   "cell_type": "markdown",
   "id": "dbcfe66c",
   "metadata": {},
   "source": [
    "## Hyperparameter search"
   ]
  },
  {
   "cell_type": "code",
   "execution_count": null,
   "id": "11eed6fb",
   "metadata": {},
   "outputs": [],
   "source": [
    "hyperparameters_range_dictionary = {\n",
    "    \"topK\": Integer(5, 1000),\n",
    "    \"l1_ratio\": Real(low = 1e-5, high = 1.0, prior = 'log-uniform'),\n",
    "    \"alpha\": Real(low = 1e-3, high = 1.0, prior = 'uniform')\n",
    "}"
   ]
  },
  {
   "cell_type": "code",
   "execution_count": null,
   "id": "cb951489",
   "metadata": {},
   "outputs": [],
   "source": [
    "recommender_input_args = SearchInputRecommenderArgs(\n",
    "    CONSTRUCTOR_POSITIONAL_ARGS = [URM_train],     \n",
    "    CONSTRUCTOR_KEYWORD_ARGS = {},\n",
    "    FIT_POSITIONAL_ARGS = [],\n",
    "    FIT_KEYWORD_ARGS = {},\n",
    "    EARLYSTOPPING_KEYWORD_ARGS = {}\n",
    ")"
   ]
  },
  {
   "cell_type": "code",
   "execution_count": null,
   "id": "b7a5fe9d",
   "metadata": {},
   "outputs": [],
   "source": [
    "hyper_search = utils.bayesian_search(\n",
    "    recommender_class, \n",
    "    recommender_input_args, \n",
    "    hyperparameters_range_dictionary, \n",
    "    evaluator_validation,\n",
    "    dataset_version=dataset_version,\n",
    "    n_cases=100,\n",
    "    perc_random_starts=0.3\n",
    ")"
   ]
  },
  {
   "cell_type": "markdown",
   "id": "34ea2f65",
   "metadata": {},
   "source": [
    "## Best Model"
   ]
  },
  {
   "cell_type": "code",
   "execution_count": null,
   "id": "c02cac5a",
   "metadata": {},
   "outputs": [],
   "source": [
    "recommender = utils.fit_best_recommender(recommender_class, URM_all, dataset_version)\n",
    "utils.submission(recommender, dataset_version)"
   ]
  },
  {
   "cell_type": "code",
   "execution_count": null,
   "id": "803ced48",
   "metadata": {},
   "outputs": [],
   "source": [
    "utils.save_item_scores(recommender_class, \n",
    "                       URM_train, \n",
    "                       evaluator_validation.users_to_evaluate, \n",
    "                       dataset_version, \n",
    "                       fast=True)"
   ]
  }
 ],
 "metadata": {
  "kernelspec": {
   "display_name": "Python 3.9 (RecSysFramework)",
   "language": "python",
   "name": "recsysframework"
  },
  "language_info": {
   "codemirror_mode": {
    "name": "ipython",
    "version": 3
   },
   "file_extension": ".py",
   "mimetype": "text/x-python",
   "name": "python",
   "nbconvert_exporter": "python",
   "pygments_lexer": "ipython3",
   "version": "3.8.15"
  }
 },
 "nbformat": 4,
 "nbformat_minor": 5
}
