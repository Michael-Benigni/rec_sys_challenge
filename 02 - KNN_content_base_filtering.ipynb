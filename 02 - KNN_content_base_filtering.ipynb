{
 "cells": [
  {
   "cell_type": "markdown",
   "id": "6f28469e",
   "metadata": {},
   "source": [
    "# KNN Item Content-Based Filtering Recommender"
   ]
  },
  {
   "cell_type": "code",
   "execution_count": null,
   "id": "17fe039d",
   "metadata": {},
   "outputs": [],
   "source": [
    "def init_kaggle(run_on_kaggle, secret_name):\n",
    "    if run_on_kaggle:\n",
    "        from kaggle_secrets import UserSecretsClient\n",
    "        user_secrets = UserSecretsClient()\n",
    "        personal_token = user_secrets.get_secret(secret_name)\n",
    "        \n",
    "        import subprocess\n",
    "        subprocess.run([\"git\", \"clone\", \"https://\" + personal_token + \"@github.com/alecontuIT/rec_sys_challenge2022.git\"])\n",
    "        \n",
    "        import os\n",
    "        os.chdir(\"./rec_sys_challenge2022\")\n",
    "        \n",
    "        subprocess.run([\"pip\", \"install\", \"-r\", \"requirements.txt\"])\n",
    "        subprocess.run([\"python\", \"run_compile_all_cython.py\"])\n",
    "        return True\n",
    "    \n",
    "    else:\n",
    "        return False"
   ]
  },
  {
   "cell_type": "code",
   "execution_count": null,
   "id": "82a62439",
   "metadata": {},
   "outputs": [],
   "source": [
    "kaggle = init_kaggle(False, \"recsys_git_token\")"
   ]
  },
  {
   "cell_type": "code",
   "execution_count": null,
   "id": "451499e1",
   "metadata": {},
   "outputs": [],
   "source": [
    "import utils \n",
    "from recmodels import ItemKNNCBFRec\n",
    "from scipy.stats import loguniform\n",
    "from Evaluation.Evaluator import EvaluatorHoldout\n",
    "from skopt.space import Real, Integer, Categorical\n",
    "from HyperparameterTuning.SearchAbstractClass import SearchInputRecommenderArgs"
   ]
  },
  {
   "cell_type": "code",
   "execution_count": null,
   "id": "ebd2e0e2",
   "metadata": {},
   "outputs": [],
   "source": [
    "recommender_class = ItemKNNCBFRec\n",
    "dataset_version = \"stacked\""
   ]
  },
  {
   "cell_type": "code",
   "execution_count": null,
   "id": "ba6153dd",
   "metadata": {
    "scrolled": true
   },
   "outputs": [],
   "source": [
    "URM_all, URM_train, URM_validation, _, _, ICM_stacked, ICM_stacked_train = utils.get_data_global_sample(\n",
    "    dataset_version=dataset_version, \n",
    "    train_percentage=0.7, \n",
    "    setSeed=True\n",
    ")"
   ]
  },
  {
   "cell_type": "code",
   "execution_count": null,
   "id": "2452ced3",
   "metadata": {
    "scrolled": true
   },
   "outputs": [],
   "source": [
    "evaluator_validation = EvaluatorHoldout(URM_validation, cutoff_list=[10])"
   ]
  },
  {
   "cell_type": "markdown",
   "id": "3d6a6109",
   "metadata": {},
   "source": [
    "## Hyperparameters Search"
   ]
  },
  {
   "cell_type": "code",
   "execution_count": null,
   "id": "3f6ce272",
   "metadata": {},
   "outputs": [],
   "source": [
    "recommender_input_args = SearchInputRecommenderArgs(\n",
    "    CONSTRUCTOR_POSITIONAL_ARGS = [URM_train, ICM_stacked_train],     \n",
    "    CONSTRUCTOR_KEYWORD_ARGS = {},\n",
    "    FIT_POSITIONAL_ARGS = [],\n",
    "    FIT_KEYWORD_ARGS = {},\n",
    "    EARLYSTOPPING_KEYWORD_ARGS = {},\n",
    ")"
   ]
  },
  {
   "cell_type": "code",
   "execution_count": null,
   "id": "227c7baa",
   "metadata": {},
   "outputs": [],
   "source": [
    "hyperparameters_range_dictionary = {\n",
    "    \"topK\": Integer(5, 1000),\n",
    "    \"shrink\": Integer(0, 1000),\n",
    "    \"similarity\": Categorical([\"cosine\", \"jaccard\", \"asymmetric\", \"dice\", \"tversky\"]),\n",
    "    \"normalize\": Categorical([True, False]),\n",
    "    \"feature_weighting\": Categorical([\"TF-IDF\", \"BM25\", \"none\"]),\n",
    "    # asymmetric similarity:\n",
    "    #\"asymmetric_alpha\": Real(low = 0, high = 2, prior = 'uniform'),\n",
    "    # tversky similarity:\n",
    "    #\"tversky_alpha\": Real(low = 0, high = 2, prior = 'uniform'),\n",
    "    #\"tversky_beta\": Real(low = 0, high = 2, prior = 'uniform'),\n",
    "    # euclidean similarity:\n",
    "    #\"normalize_avg_row\": Categorical([True, False]),\n",
    "    #\"similarity_from_distance_mode\": Categorical([\"lin\", \"log\", \"exp\"])\n",
    "}"
   ]
  },
  {
   "cell_type": "code",
   "execution_count": null,
   "id": "8fa8bb97",
   "metadata": {},
   "outputs": [],
   "source": [
    "hyper_search = utils.bayesian_search(\n",
    "    recommender_class, \n",
    "    recommender_input_args, \n",
    "    hyperparameters_range_dictionary, \n",
    "    evaluator_validation,\n",
    "    dataset_version=dataset_version,\n",
    "    n_cases = 100,\n",
    "    perc_random_starts = 0.3\n",
    ")"
   ]
  },
  {
   "cell_type": "markdown",
   "id": "d23d8e51",
   "metadata": {},
   "source": [
    "## Best Model"
   ]
  },
  {
   "cell_type": "code",
   "execution_count": null,
   "id": "d8d5e347",
   "metadata": {},
   "outputs": [],
   "source": [
    "recommender = utils.fit_best_recommender(recommender_class, URM_all, dataset_version, ICM_train=ICM)\n",
    "utils.submission(recommender, dataset_version)"
   ]
  },
  {
   "cell_type": "code",
   "execution_count": null,
   "id": "5573dc63",
   "metadata": {},
   "outputs": [],
   "source": [
    "utils.save_item_scores(recommender_class, \n",
    "                       URM_train, \n",
    "                       evaluator_validation.users_to_evaluate, \n",
    "                       dataset_version, \n",
    "                       fast=True)"
   ]
  },
  {
   "cell_type": "code",
   "execution_count": null,
   "id": "52960511",
   "metadata": {},
   "outputs": [],
   "source": []
  }
 ],
 "metadata": {
  "kernelspec": {
   "display_name": "Python 3.9 (RecSysFramework)",
   "language": "python",
   "name": "recsysframework"
  },
  "language_info": {
   "codemirror_mode": {
    "name": "ipython",
    "version": 3
   },
   "file_extension": ".py",
   "mimetype": "text/x-python",
   "name": "python",
   "nbconvert_exporter": "python",
   "pygments_lexer": "ipython3",
   "version": "3.8.15"
  }
 },
 "nbformat": 4,
 "nbformat_minor": 5
}
