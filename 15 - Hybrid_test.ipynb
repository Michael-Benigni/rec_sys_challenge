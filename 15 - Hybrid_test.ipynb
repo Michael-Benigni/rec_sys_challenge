{
 "cells": [
  {
   "cell_type": "markdown",
   "id": "1fe752be",
   "metadata": {},
   "source": [
    "# IALS Recommender"
   ]
  },
  {
   "cell_type": "code",
   "execution_count": 1,
   "id": "84543c01",
   "metadata": {},
   "outputs": [],
   "source": [
    "def init_kaggle(run_on_kaggle, secret_name):\n",
    "    if run_on_kaggle:\n",
    "        from kaggle_secrets import UserSecretsClient\n",
    "        user_secrets = UserSecretsClient()\n",
    "        personal_token = user_secrets.get_secret(secret_name)\n",
    "        \n",
    "        import subprocess\n",
    "        subprocess.run([\"git\", \"clone\", \"https://\" + personal_token + \"@github.com/alecontuIT/rec_sys_challenge2022.git\"])\n",
    "        \n",
    "        import os\n",
    "        os.chdir(\"./rec_sys_challenge2022\")\n",
    "        \n",
    "        subprocess.run([\"pip\", \"install\", \"-r\", \"requirements.txt\"])\n",
    "        return True\n",
    "    \n",
    "    else:\n",
    "        return False"
   ]
  },
  {
   "cell_type": "code",
   "execution_count": 2,
   "id": "bfde2b95",
   "metadata": {},
   "outputs": [],
   "source": [
    "dataset_version = \"interactions-all-ones\"\n",
    "fast = True\n",
    "kaggle = init_kaggle(False, \"recsys_git_token\")"
   ]
  },
  {
   "cell_type": "code",
   "execution_count": 3,
   "id": "29bf2ac5",
   "metadata": {},
   "outputs": [
    {
     "name": "stdout",
     "output_type": "stream",
     "text": [
      "Tensorflow is not available\n",
      "Tensorflow is not available\n"
     ]
    },
    {
     "name": "stderr",
     "output_type": "stream",
     "text": [
      "/Users/michael/miniconda3/envs/RecSysFramework/lib/python3.8/site-packages/lightfm/_lightfm_fast.py:9: UserWarning: LightFM was compiled without OpenMP support. Only a single thread will be used.\n",
      "  warnings.warn(\n"
     ]
    }
   ],
   "source": [
    "import utils\n",
    "from recmodels import *\n",
    "from Recommenders.Hybrids.FastLoadWrapperRecommender import FastLoadWrapperRecommender\n",
    "from Recommenders.Hybrids.DiffStructHybridRecommender import DiffStructHybridRecommender\n",
    "from HyperparameterTuning.IterativeHybridOptimizer import OptimizerDiffStructHybridRecommender\n",
    "from scipy.stats import loguniform\n",
    "from Evaluation.Evaluator import EvaluatorHoldout\n",
    "from skopt.space import Real, Integer, Categorical\n",
    "from HyperparameterTuning.SearchAbstractClass import SearchInputRecommenderArgs"
   ]
  },
  {
   "cell_type": "code",
   "execution_count": 4,
   "id": "b33aca83",
   "metadata": {},
   "outputs": [],
   "source": [
    "recommender_class = DiffStructHybridRecommender"
   ]
  },
  {
   "cell_type": "code",
   "execution_count": 5,
   "id": "ff623f25",
   "metadata": {
    "scrolled": true
   },
   "outputs": [
    {
     "name": "stdout",
     "output_type": "stream",
     "text": [
      "Warning: 31 (0.07 %) of 41629 users have no sampled items\n"
     ]
    }
   ],
   "source": [
    "URM_all, URM_train, URM_val, ICM = utils.get_data_global_sample(dataset_version=dataset_version, \n",
    "                                                                train_percentage=0.7,\n",
    "                                                                setSeed=True)"
   ]
  },
  {
   "cell_type": "code",
   "execution_count": 6,
   "id": "49f8760f",
   "metadata": {
    "scrolled": false
   },
   "outputs": [
    {
     "name": "stdout",
     "output_type": "stream",
     "text": [
      "EvaluatorHoldout: Ignoring 31 ( 0.1%) Users that have less than 1 test interactions\n"
     ]
    }
   ],
   "source": [
    "evaluator_validation = EvaluatorHoldout(URM_val, cutoff_list=[10])"
   ]
  },
  {
   "cell_type": "markdown",
   "id": "115681d8",
   "metadata": {},
   "source": [
    "## Optimizer"
   ]
  },
  {
   "cell_type": "code",
   "execution_count": 7,
   "id": "1a5c2fb5",
   "metadata": {},
   "outputs": [
    {
     "name": "stdout",
     "output_type": "stream",
     "text": [
      "[0.04745485 0.04631529 0.01931772] [<class 'recmodels.RP3BetaRec'> <class 'recmodels.P3AlphaRec'>\n",
      " <class 'recmodels.TopPopRec'>]\n"
     ]
    }
   ],
   "source": [
    "optimizer = OptimizerDiffStructHybridRecommender(URM_train, \n",
    "                                                 URM_val, \n",
    "                                                 [TopPopRec, RP3BetaRec, P3AlphaRec], \n",
    "                                                 dataset_version, \n",
    "                                                 load_scores_from_saved=True, \n",
    "                                                 user_id_array_val=evaluator_validation.users_to_evaluate)"
   ]
  },
  {
   "cell_type": "code",
   "execution_count": 8,
   "id": "f1b6c01f",
   "metadata": {},
   "outputs": [
    {
     "name": "stdout",
     "output_type": "stream",
     "text": [
      "EvaluatorHoldout: Ignoring 31 ( 0.1%) Users that have less than 1 test interactions\n",
      "Iteration No: 1 started. Evaluating function at random point.\n",
      "SearchBayesianSkopt: Testing config: {'w0': 0.4154280133516205, 'w1': 0.2778353374380515, 'normalize': 'fro'}\n",
      "DiffStructHybridRecommender: URM Detected 3461 (12.4%) items with no interactions.\n",
      "EvaluatorHoldout: Processed 41598 (100.0%) in 29.06 sec. Users per second: 1431\n",
      "SearchBayesianSkopt: New best config found. Config 0: {'w0': 0.4154280133516205, 'w1': 0.2778353374380515, 'normalize': 'fro'} - results: PRECISION: 0.0798139, PRECISION_RECALL_MIN_DEN: 0.0866230, RECALL: 0.0591133, MAP: 0.0434717, MAP_MIN_DEN: 0.0470223, MRR: 0.2267179, NDCG: 0.0977980, F1: 0.0679214, HIT_RATE: 0.4096832, ARHR_ALL_HITS: 0.3081132, NOVELTY: 0.0044936, AVERAGE_POPULARITY: 0.1081469, DIVERSITY_MEAN_INTER_LIST: 0.9801591, DIVERSITY_HERFINDAHL: 0.9980136, COVERAGE_ITEM: 0.7651244, COVERAGE_ITEM_HIT: 0.0535612, ITEMS_IN_GT: 0.8762514, COVERAGE_USER: 0.9992553, COVERAGE_USER_HIT: 0.4093781, USERS_IN_GT: 0.9992553, DIVERSITY_GINI: 0.1730100, SHANNON_ENTROPY: 11.5188962, RATIO_DIVERSITY_HERFINDAHL: 0.9983433, RATIO_DIVERSITY_GINI: 0.3908131, RATIO_SHANNON_ENTROPY: 0.8538682, RATIO_AVERAGE_POPULARITY: 2.1400604, RATIO_NOVELTY: 0.3563716, \n",
      "\n",
      "SearchBayesianSkopt: Saving model in recommendations/interactions-all-ones/DiffStructHybridRecommender/hyperparams_search/DiffStructHybridRecommender\n",
      "\n",
      "DiffStructHybridRecommender: Saving model in file 'recommendations/interactions-all-ones/DiffStructHybridRecommender/hyperparams_search/DiffStructHybridRecommender_best_model'\n",
      "#######################################\n",
      "FINAL HYBRID: {'alphas': [0.4154280133516205, 0.2778353374380515], 'num_rec': 2, 'normalization_const': 0.6932633507896719, 'normalize': 'fro', 'recs_classes_names': ['RP3betaRecommender', 'P3alphaRecommender'], 'load_scores_from_saved': True, 'optimization': True, 'dataset_version': 'interactions-all-ones'}\n",
      "#######################################\n",
      "DiffStructHybridRecommender: Saving complete\n",
      "Iteration No: 1 ended. Evaluation done at random point.\n",
      "Time taken: 29.2284\n",
      "Function value obtained: -0.0435\n",
      "Current minimum: -0.0435\n",
      "Iteration No: 2 started. Evaluating function at random point.\n",
      "SearchBayesianSkopt: Testing config: {'w0': 0.4151206681603744, 'w1': 0.9863615850323458, 'normalize': 'fro'}\n",
      "DiffStructHybridRecommender: URM Detected 3461 (12.4%) items with no interactions.\n",
      "EvaluatorHoldout: Processed 41598 (100.0%) in 27.55 sec. Users per second: 1510\n",
      "SearchBayesianSkopt: Config 1 is suboptimal. Config: {'w0': 0.4151206681603744, 'w1': 0.9863615850323458, 'normalize': 'fro'} - results: PRECISION: 0.0657532, PRECISION_RECALL_MIN_DEN: 0.0706727, RECALL: 0.0465816, MAP: 0.0368443, MAP_MIN_DEN: 0.0396864, MRR: 0.1991727, NDCG: 0.0823649, F1: 0.0545314, HIT_RATE: 0.3475648, ARHR_ALL_HITS: 0.2655018, NOVELTY: 0.0045896, AVERAGE_POPULARITY: 0.0790742, DIVERSITY_MEAN_INTER_LIST: 0.9873371, DIVERSITY_HERFINDAHL: 0.9987313, COVERAGE_ITEM: 0.7849328, COVERAGE_ITEM_HIT: 0.0537042, ITEMS_IN_GT: 0.8762514, COVERAGE_USER: 0.9992553, COVERAGE_USER_HIT: 0.3473060, USERS_IN_GT: 0.9992553, DIVERSITY_GINI: 0.2008724, SHANNON_ENTROPY: 11.9518988, RATIO_DIVERSITY_HERFINDAHL: 0.9990613, RATIO_DIVERSITY_GINI: 0.4537515, RATIO_SHANNON_ENTROPY: 0.8859657, RATIO_AVERAGE_POPULARITY: 1.5647569, RATIO_NOVELTY: 0.3639826, \n",
      "\n",
      "Iteration No: 2 ended. Evaluation done at random point.\n",
      "Time taken: 29.3620\n",
      "Function value obtained: -0.0368\n",
      "Current minimum: -0.0435\n",
      "Iteration No: 3 started. Searching for the next optimal point.\n",
      "SearchBayesianSkopt: Testing config: {'w0': 0.574082855396562, 'w1': 0.28921238661700743, 'normalize': '-inf'}\n",
      "DiffStructHybridRecommender: URM Detected 3461 (12.4%) items with no interactions.\n",
      "EvaluatorHoldout: Processed 41598 (100.0%) in 31.96 sec. Users per second: 1302\n",
      "SearchBayesianSkopt: Config 2 is suboptimal. Config: {'w0': 0.574082855396562, 'w1': 0.28921238661700743, 'normalize': '-inf'} - results: PRECISION: 0.0660224, PRECISION_RECALL_MIN_DEN: 0.0709660, RECALL: 0.0468030, MAP: 0.0369659, MAP_MIN_DEN: 0.0398196, MRR: 0.1996815, NDCG: 0.0826487, F1: 0.0547757, HIT_RATE: 0.3485504, ARHR_ALL_HITS: 0.2662921, NOVELTY: 0.0045895, AVERAGE_POPULARITY: 0.0793436, DIVERSITY_MEAN_INTER_LIST: 0.9872959, DIVERSITY_HERFINDAHL: 0.9987272, COVERAGE_ITEM: 0.7848255, COVERAGE_ITEM_HIT: 0.0535970, ITEMS_IN_GT: 0.8762514, COVERAGE_USER: 0.9992553, COVERAGE_USER_HIT: 0.3482909, USERS_IN_GT: 0.9992553, DIVERSITY_GINI: 0.2007721, SHANNON_ENTROPY: 11.9491954, RATIO_DIVERSITY_HERFINDAHL: 0.9990572, RATIO_DIVERSITY_GINI: 0.4535251, RATIO_SHANNON_ENTROPY: 0.8857653, RATIO_AVERAGE_POPULARITY: 1.5700884, RATIO_NOVELTY: 0.3639779, \n",
      "\n",
      "Iteration No: 3 ended. Search finished for the next optimal point.\n",
      "Time taken: 32.2998\n",
      "Function value obtained: -0.0370\n",
      "Current minimum: -0.0435\n",
      "Iteration No: 4 started. Searching for the next optimal point.\n",
      "SearchBayesianSkopt: Testing config: {'w0': 0.4089683360241846, 'w1': 0.2803046835776077, 'normalize': None}\n",
      "DiffStructHybridRecommender: URM Detected 3461 (12.4%) items with no interactions.\n",
      "EvaluatorHoldout: Processed 41598 (100.0%) in 24.51 sec. Users per second: 1697\n",
      "SearchBayesianSkopt: New best config found. Config 3: {'w0': 0.4089683360241846, 'w1': 0.2803046835776077, 'normalize': None} - results: PRECISION: 0.0842396, PRECISION_RECALL_MIN_DEN: 0.0927786, RECALL: 0.0652092, MAP: 0.0456583, MAP_MIN_DEN: 0.0498792, MRR: 0.2417703, NDCG: 0.1042601, F1: 0.0735128, HIT_RATE: 0.4415116, ARHR_ALL_HITS: 0.3267693, NOVELTY: 0.0042932, AVERAGE_POPULARITY: 0.1433382, DIVERSITY_MEAN_INTER_LIST: 0.9658602, DIVERSITY_HERFINDAHL: 0.9965837, COVERAGE_ITEM: 0.6875000, COVERAGE_ITEM_HIT: 0.0520237, ITEMS_IN_GT: 0.8762514, COVERAGE_USER: 0.9992553, COVERAGE_USER_HIT: 0.4411828, USERS_IN_GT: 0.9992553, DIVERSITY_GINI: 0.1199969, SHANNON_ENTROPY: 10.7547148, RATIO_DIVERSITY_HERFINDAHL: 0.9969130, RATIO_DIVERSITY_GINI: 0.2710614, RATIO_SHANNON_ENTROPY: 0.7972213, RATIO_AVERAGE_POPULARITY: 2.8364432, RATIO_NOVELTY: 0.3404774, \n",
      "\n",
      "SearchBayesianSkopt: Saving model in recommendations/interactions-all-ones/DiffStructHybridRecommender/hyperparams_search/DiffStructHybridRecommender\n",
      "\n",
      "DiffStructHybridRecommender: Saving model in file 'recommendations/interactions-all-ones/DiffStructHybridRecommender/hyperparams_search/DiffStructHybridRecommender_best_model'\n",
      "#######################################\n",
      "FINAL HYBRID: {'alphas': [0.4089683360241846, 0.2803046835776077], 'num_rec': 2, 'normalization_const': 0.6892730196017922, 'normalize': None, 'recs_classes_names': ['RP3betaRecommender', 'P3alphaRecommender'], 'load_scores_from_saved': True, 'optimization': True, 'dataset_version': 'interactions-all-ones'}\n",
      "#######################################\n",
      "DiffStructHybridRecommender: Saving complete\n",
      "Iteration No: 4 ended. Search finished for the next optimal point.\n",
      "Time taken: 25.0800\n",
      "Function value obtained: -0.0457\n",
      "Current minimum: -0.0457\n",
      "SearchBayesianSkopt: Search complete. Best config is 3: {'w0': 0.4089683360241846, 'w1': 0.2803046835776077, 'normalize': None}\n",
      "\n",
      "******* Validation Metric improved! Model P3alphaRecommender kept. *******\n",
      "DiffStructHybridRecommender: URM Detected 3461 (12.4%) items with no interactions.\n",
      "DiffStructHybridRecommender: Loading model from file 'recommendations/interactions-all-ones/DiffStructHybridRecommender/hyperparams_search/DiffStructHybridRecommender_best_model.zip'\n",
      "DiffStructHybridRecommender: Loading complete\n",
      "EvaluatorHoldout: Ignoring 31 ( 0.1%) Users that have less than 1 test interactions\n",
      "Iteration No: 1 started. Evaluating function at random point.\n",
      "SearchBayesianSkopt: Testing config: {'w0': 0.6726063032525041, 'w1': 0.2523562236433095, 'normalize': None}\n",
      "DiffStructHybridRecommender: URM Detected 3461 (12.4%) items with no interactions.\n",
      "DiffStructHybridRecommender: URM Detected 3461 (12.4%) items with no interactions.\n",
      "DiffStructHybridRecommender: Loading model from file 'recommendations/interactions-all-ones/DiffStructHybridRecommender/version/optimizationDiffStructHybridRecommender_best_model.zip'\n",
      "DiffStructHybridRecommender: Loading complete\n",
      "DiffStructHybridRecommender: Saving item_score in file 'recommendations/interactions-all-ones/DiffStructHybridRecommender/version/item_scores.npy'\n"
     ]
    },
    {
     "name": "stdout",
     "output_type": "stream",
     "text": [
      "DiffStructHybridRecommender: Saving complete\n",
      "EvaluatorHoldout: Processed 41598 (100.0%) in 32.22 sec. Users per second: 1291\n",
      "SearchBayesianSkopt: New best config found. Config 0: {'w0': 0.6726063032525041, 'w1': 0.2523562236433095, 'normalize': None} - results: PRECISION: 0.0407520, PRECISION_RECALL_MIN_DEN: 0.0475686, RECALL: 0.0361825, MAP: 0.0193177, MAP_MIN_DEN: 0.0223198, MRR: 0.1388900, NDCG: 0.0527914, F1: 0.0383315, HIT_RATE: 0.2911198, ARHR_ALL_HITS: 0.1627465, NOVELTY: 0.0029994, AVERAGE_POPULARITY: 0.5107359, DIVERSITY_MEAN_INTER_LIST: 0.1376599, DIVERSITY_HERFINDAHL: 0.9137657, COVERAGE_ITEM: 0.0010011, COVERAGE_ITEM_HIT: 0.0007866, ITEMS_IN_GT: 0.8762514, COVERAGE_USER: 0.9992553, COVERAGE_USER_HIT: 0.2909030, USERS_IN_GT: 0.9992553, DIVERSITY_GINI: 0.0004281, SHANNON_ENTROPY: 3.6285418, RATIO_DIVERSITY_HERFINDAHL: 0.9140676, RATIO_DIVERSITY_GINI: 0.0009669, RATIO_SHANNON_ENTROPY: 0.2689751, RATIO_AVERAGE_POPULARITY: 10.1066781, RATIO_NOVELTY: 0.2378705, \n",
      "\n",
      "SearchBayesianSkopt: Saving model in recommendations/interactions-all-ones/DiffStructHybridRecommender/hyperparams_search/DiffStructHybridRecommender\n",
      "\n",
      "DiffStructHybridRecommender: Saving model in file 'recommendations/interactions-all-ones/DiffStructHybridRecommender/hyperparams_search/DiffStructHybridRecommender_best_model'\n",
      "DiffStructHybridRecommender: URM Detected 3461 (12.4%) items with no interactions.\n",
      "DiffStructHybridRecommender: Loading model from file 'recommendations/interactions-all-ones/DiffStructHybridRecommender/version/optimizationDiffStructHybridRecommender_best_model.zip'\n",
      "DiffStructHybridRecommender: Loading complete\n",
      "#######################################\n",
      "BIGGER HYBRID BLACK BOX ELEMENTS: {'alphas': [0.6726063032525041, 0.2523562236433095], 'num_rec': 2, 'normalization_const': 0.9249625268958137, 'normalize': None, 'recs_classes_names': ['DiffStructHybridRecommender', 'TopPopRecommender'], 'load_scores_from_saved': True, 'optimization': True, 'dataset_version': 'interactions-all-ones'}\n",
      "#######################################\n",
      "#######################################\n",
      "SMALL OLD HYBRID: {'alphas': [0.4089683360241846, 0.2803046835776077], 'num_rec': 2, 'normalization_const': 0.6892730196017922, 'normalize': None, 'recs_classes_names': ['RP3betaRecommender', 'P3alphaRecommender'], 'load_scores_from_saved': True, 'optimization': True, 'dataset_version': 'interactions-all-ones'}\n",
      "#######################################\n",
      "#######################################\n",
      "FINAL HYBRID: {'alphas': [0.27507468064055474, 0.1885346970054976, 0.17394233628592914], 'num_rec': 3, 'normalization_const': 0.6375517139319815, 'normalize': None, 'recs_classes_names': ['RP3betaRecommender', 'P3alphaRecommender', 'TopPopRecommender'], 'load_scores_from_saved': True, 'optimization': True, 'dataset_version': 'interactions-all-ones'}\n",
      "#######################################\n",
      "DiffStructHybridRecommender: Saving complete\n",
      "Iteration No: 1 ended. Evaluation done at random point.\n",
      "Time taken: 45.7104\n",
      "Function value obtained: -0.0193\n",
      "Current minimum: -0.0193\n",
      "Iteration No: 2 started. Evaluating function at random point.\n",
      "SearchBayesianSkopt: Testing config: {'w0': 0.32438934516261825, 'w1': 0.34574719266120163, 'normalize': None}\n",
      "DiffStructHybridRecommender: URM Detected 3461 (12.4%) items with no interactions.\n",
      "EvaluatorHoldout: Processed 41598 (100.0%) in 32.61 sec. Users per second: 1275\n",
      "SearchBayesianSkopt: Config 1 is suboptimal. Config: {'w0': 0.32438934516261825, 'w1': 0.34574719266120163, 'normalize': None} - results: PRECISION: 0.0407520, PRECISION_RECALL_MIN_DEN: 0.0475686, RECALL: 0.0361825, MAP: 0.0193177, MAP_MIN_DEN: 0.0223198, MRR: 0.1388900, NDCG: 0.0527914, F1: 0.0383315, HIT_RATE: 0.2911198, ARHR_ALL_HITS: 0.1627465, NOVELTY: 0.0029994, AVERAGE_POPULARITY: 0.5107359, DIVERSITY_MEAN_INTER_LIST: 0.1376599, DIVERSITY_HERFINDAHL: 0.9137657, COVERAGE_ITEM: 0.0010011, COVERAGE_ITEM_HIT: 0.0007866, ITEMS_IN_GT: 0.8762514, COVERAGE_USER: 0.9992553, COVERAGE_USER_HIT: 0.2909030, USERS_IN_GT: 0.9992553, DIVERSITY_GINI: 0.0004281, SHANNON_ENTROPY: 3.6285418, RATIO_DIVERSITY_HERFINDAHL: 0.9140676, RATIO_DIVERSITY_GINI: 0.0009669, RATIO_SHANNON_ENTROPY: 0.2689751, RATIO_AVERAGE_POPULARITY: 10.1066781, RATIO_NOVELTY: 0.2378705, \n",
      "\n",
      "SearchBayesianSkopt: Search interrupted due to ValueError. The evaluated configurations may have had all the same value.\n",
      "\n",
      "******* Validation Metric not improved! Model TopPopRecommender discarded. *******\n"
     ]
    },
    {
     "name": "stderr",
     "output_type": "stream",
     "text": [
      "Traceback (most recent call last):\n",
      "  File \"/Users/michael/Develop/rec_sys/rec_sys_challenge2022/HyperparameterTuning/SearchBayesianSkopt.py\", line 341, in search\n",
      "    self.result = gp_minimize(self._objective_function_list_input,\n",
      "  File \"/Users/michael/miniconda3/envs/RecSysFramework/lib/python3.8/site-packages/skopt/optimizer/gp.py\", line 259, in gp_minimize\n",
      "    return base_minimize(\n",
      "  File \"/Users/michael/miniconda3/envs/RecSysFramework/lib/python3.8/site-packages/skopt/optimizer/base.py\", line 302, in base_minimize\n",
      "    result = optimizer.tell(next_x, next_y)\n",
      "  File \"/Users/michael/miniconda3/envs/RecSysFramework/lib/python3.8/site-packages/skopt/optimizer/optimizer.py\", line 493, in tell\n",
      "    return self._tell(x, y, fit=fit)\n",
      "  File \"/Users/michael/miniconda3/envs/RecSysFramework/lib/python3.8/site-packages/skopt/optimizer/optimizer.py\", line 536, in _tell\n",
      "    est.fit(self.space.transform(self.Xi), self.yi)\n",
      "  File \"/Users/michael/miniconda3/envs/RecSysFramework/lib/python3.8/site-packages/skopt/learning/gaussian_process/gpr.py\", line 195, in fit\n",
      "    super(GaussianProcessRegressor, self).fit(X, y)\n",
      "  File \"/Users/michael/miniconda3/envs/RecSysFramework/lib/python3.8/site-packages/sklearn/gaussian_process/_gpr.py\", line 235, in fit\n",
      "    optima = [(self._constrained_optimization(obj_func,\n",
      "  File \"/Users/michael/miniconda3/envs/RecSysFramework/lib/python3.8/site-packages/sklearn/gaussian_process/_gpr.py\", line 506, in _constrained_optimization\n",
      "    opt_res = scipy.optimize.minimize(\n",
      "  File \"/Users/michael/miniconda3/envs/RecSysFramework/lib/python3.8/site-packages/scipy/optimize/_minimize.py\", line 619, in minimize\n",
      "    return _minimize_lbfgsb(fun, x0, args, jac, bounds,\n",
      "  File \"/Users/michael/miniconda3/envs/RecSysFramework/lib/python3.8/site-packages/scipy/optimize/lbfgsb.py\", line 306, in _minimize_lbfgsb\n",
      "    sf = _prepare_scalar_function(fun, x0, jac=jac, args=args, epsilon=eps,\n",
      "  File \"/Users/michael/miniconda3/envs/RecSysFramework/lib/python3.8/site-packages/scipy/optimize/optimize.py\", line 261, in _prepare_scalar_function\n",
      "    sf = ScalarFunction(fun, x0, args, grad, hess,\n",
      "  File \"/Users/michael/miniconda3/envs/RecSysFramework/lib/python3.8/site-packages/scipy/optimize/_differentiable_functions.py\", line 136, in __init__\n",
      "    self._update_fun()\n",
      "  File \"/Users/michael/miniconda3/envs/RecSysFramework/lib/python3.8/site-packages/scipy/optimize/_differentiable_functions.py\", line 226, in _update_fun\n",
      "    self._update_fun_impl()\n",
      "  File \"/Users/michael/miniconda3/envs/RecSysFramework/lib/python3.8/site-packages/scipy/optimize/_differentiable_functions.py\", line 133, in update_fun\n",
      "    self.f = fun_wrapped(self.x)\n",
      "  File \"/Users/michael/miniconda3/envs/RecSysFramework/lib/python3.8/site-packages/scipy/optimize/_differentiable_functions.py\", line 130, in fun_wrapped\n",
      "    return fun(x, *args)\n",
      "  File \"/Users/michael/miniconda3/envs/RecSysFramework/lib/python3.8/site-packages/scipy/optimize/optimize.py\", line 74, in __call__\n",
      "    self._compute_if_needed(x, *args)\n",
      "  File \"/Users/michael/miniconda3/envs/RecSysFramework/lib/python3.8/site-packages/scipy/optimize/optimize.py\", line 68, in _compute_if_needed\n",
      "    fg = self.fun(x, *args)\n",
      "  File \"/Users/michael/miniconda3/envs/RecSysFramework/lib/python3.8/site-packages/sklearn/gaussian_process/_gpr.py\", line 227, in obj_func\n",
      "    lml, grad = self.log_marginal_likelihood(\n",
      "  File \"/Users/michael/miniconda3/envs/RecSysFramework/lib/python3.8/site-packages/sklearn/gaussian_process/_gpr.py\", line 481, in log_marginal_likelihood\n",
      "    alpha = cho_solve((L, True), y_train)  # Line 3\n",
      "  File \"/Users/michael/miniconda3/envs/RecSysFramework/lib/python3.8/site-packages/scipy/linalg/decomp_cholesky.py\", line 194, in cho_solve\n",
      "    b1 = asarray_chkfinite(b)\n",
      "  File \"/Users/michael/miniconda3/envs/RecSysFramework/lib/python3.8/site-packages/numpy/lib/function_base.py\", line 488, in asarray_chkfinite\n",
      "    raise ValueError(\n",
      "ValueError: array must not contain infs or NaNs\n"
     ]
    }
   ],
   "source": [
    "optimizer.incremental_bayesian_search(4, 0.5)"
   ]
  }
 ],
 "metadata": {
  "kernelspec": {
   "display_name": "Python 3.9 (RecSysFramework)",
   "language": "python",
   "name": "recsysframework"
  },
  "language_info": {
   "codemirror_mode": {
    "name": "ipython",
    "version": 3
   },
   "file_extension": ".py",
   "mimetype": "text/x-python",
   "name": "python",
   "nbconvert_exporter": "python",
   "pygments_lexer": "ipython3",
   "version": "3.8.15"
  }
 },
 "nbformat": 4,
 "nbformat_minor": 5
}
